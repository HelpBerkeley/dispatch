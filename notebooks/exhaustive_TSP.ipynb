{
 "cells": [
  {
   "cell_type": "markdown",
   "metadata": {},
   "source": [
    "## Test code for depth-first search-based exhaustive TSP for finding shortest cycle from a distance matrix"
   ]
  },
  {
   "cell_type": "code",
   "execution_count": 8,
   "metadata": {},
   "outputs": [],
   "source": [
    "import sys\n",
    "import numpy as np\n",
    "\n",
    "PATH_TO_DISPATCH = ''\n",
    "sys.path.append(PATH_TO_DISPATCH)\n",
    "import dispatcher.optimization as op"
   ]
  },
  {
   "cell_type": "markdown",
   "metadata": {},
   "source": [
    "### Example"
   ]
  },
  {
   "cell_type": "code",
   "execution_count": 9,
   "metadata": {},
   "outputs": [
    {
     "data": {
      "text/plain": [
       "array([[       inf, 1.15697474, 0.44659461, 0.39095895, 0.97894315,\n",
       "        0.36208397, 0.68747345, 0.76480803, 0.60653816, 1.86679312],\n",
       "       [1.15697474,        inf, 0.89636819, 0.95709754, 1.55603297,\n",
       "        0.96315956, 1.23483067, 0.21076003, 0.24286032, 1.19928302],\n",
       "       [0.44659461, 0.89636819,        inf, 0.79439418, 0.30176294,\n",
       "        0.53381489, 0.11086012, 0.72734442, 0.61545834, 1.31534784],\n",
       "       [0.39095895, 0.95709754, 0.79439418,        inf, 1.09387136,\n",
       "        1.36153572, 1.70481177, 0.6623189 , 0.2177533 , 0.48330743],\n",
       "       [0.97894315, 1.55603297, 0.30176294, 1.09387136,        inf,\n",
       "        0.19509846, 0.5093726 , 0.69205218, 1.06092141, 0.89739572],\n",
       "       [0.36208397, 0.96315956, 0.53381489, 1.36153572, 0.19509846,\n",
       "               inf, 0.07342093, 0.4945189 , 1.1818438 , 0.27390307],\n",
       "       [0.68747345, 1.23483067, 0.11086012, 1.70481177, 0.5093726 ,\n",
       "        0.07342093,        inf, 1.15457732, 1.62923319, 0.70193484],\n",
       "       [0.76480803, 0.21076003, 0.72734442, 0.6623189 , 0.69205218,\n",
       "        0.4945189 , 1.15457732,        inf, 0.25099682, 0.29316742],\n",
       "       [0.60653816, 0.24286032, 0.61545834, 0.2177533 , 1.06092141,\n",
       "        1.1818438 , 1.62923319, 0.25099682,        inf, 0.65987576],\n",
       "       [1.86679312, 1.19928302, 1.31534784, 0.48330743, 0.89739572,\n",
       "        0.27390307, 0.70193484, 0.29316742, 0.65987576,        inf]])"
      ]
     },
     "metadata": {},
     "output_type": "display_data"
    },
    {
     "name": "stdout",
     "output_type": "stream",
     "text": [
      "==========\n",
      "Best tour\n",
      "[0, 3, 8, 1, 7, 9, 5, 4, 6, 2, 0]\n",
      "Distance\n",
      "2.8913288724075596\n",
      "==========\n",
      "Verifying tour\n",
      "Distance of tour validated\n"
     ]
    }
   ],
   "source": [
    "raw_dist_matrix = op.generate_test_dist_matrix(10)\n",
    "display(raw_dist_matrix)\n",
    "\n",
    "start = 0\n",
    "tour_best, dist_best = op.exhaustive_Hamiltonian_cycle(raw_dist_matrix, start)\n",
    "print (\"==========\")\n",
    "print(\"Best tour\")\n",
    "print(tour_best)\n",
    "print(\"Distance\")\n",
    "print(dist_best)\n",
    "\n",
    "print (\"==========\")\n",
    "print(\"Verifying tour\")\n",
    "evaluated_dist = op.calculate_distance(raw_dist_matrix, tour_best)\n",
    "error = np.abs(evaluated_dist - dist_best)\n",
    "if error > 1e-12:\n",
    "    print(\"Some bug in distance evaluation, error=%.3f\", error)\n",
    "else:\n",
    "    print(\"Distance of tour validated\")"
   ]
  },
  {
   "cell_type": "code",
   "execution_count": null,
   "metadata": {},
   "outputs": [],
   "source": []
  }
 ],
 "metadata": {
  "kernelspec": {
   "display_name": "Python 3",
   "language": "python",
   "name": "python3"
  },
  "language_info": {
   "codemirror_mode": {
    "name": "ipython",
    "version": 3
   },
   "file_extension": ".py",
   "mimetype": "text/x-python",
   "name": "python",
   "nbconvert_exporter": "python",
   "pygments_lexer": "ipython3",
   "version": "3.8.2"
  },
  "toc": {
   "base_numbering": 1,
   "nav_menu": {},
   "number_sections": true,
   "sideBar": true,
   "skip_h1_title": false,
   "title_cell": "Table of Contents",
   "title_sidebar": "Contents",
   "toc_cell": false,
   "toc_position": {},
   "toc_section_display": true,
   "toc_window_display": false
  }
 },
 "nbformat": 4,
 "nbformat_minor": 4
}
