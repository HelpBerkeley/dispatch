{
 "cells": [
  {
   "cell_type": "markdown",
   "metadata": {},
   "source": [
    "### Before you start\n",
    "\n",
    "You need a gmaps API key to run this notebook. I didn't want to put it here in plain, so ask me directly."
   ]
  },
  {
   "cell_type": "code",
   "execution_count": 1,
   "metadata": {},
   "outputs": [],
   "source": [
    "API_KEY = \"<fill in>\""
   ]
  },
  {
   "cell_type": "code",
   "execution_count": 1,
   "metadata": {},
   "outputs": [
    {
     "name": "stdout",
     "output_type": "stream",
     "text": [
      "Populating the interactive namespace from numpy and matplotlib\n"
     ]
    }
   ],
   "source": [
    "import googlemaps\n",
    "import gmaps\n",
    "import gmaps.datasets\n",
    "import pandas as pd\n",
    "import numpy as np\n",
    "\n",
    "from datetime import datetime as dt\n",
    "import matplotlib.pyplot as plt\n",
    "\n",
    "%pylab inline\n",
    "\n",
    "gmaps.configure(api_key=API_KEY) # Your Google API key\n",
    "gmclient = googlemaps.Client(key=API_KEY)"
   ]
  },
  {
   "cell_type": "code",
   "execution_count": 2,
   "metadata": {},
   "outputs": [],
   "source": [
    "addresses = [\n",
    "    \"1030 creston road, Berkeley, CA\",\n",
    "    \"Tilden Regional Park Shasta Road at, Wildcat Canyon Rd, Berkeley, CA 94708\",\n",
    "    \"2286 Cedar St, Berkeley, CA 94709\",\n",
    "    \"950 Indian Rock Ave, Berkeley, CA 94707\",\n",
    "    \"50 Whitaker Ave, Berkeley, CA 94708\",\n",
    "    \"1132 Euclid Ave, Berkeley, CA 94708\",\n",
    "    \"1 Centennial Dr, Berkeley, CA 94720\",\n",
    "    \"101 Colusa Ave, El Cerrito, CA 94530\",\n",
    "    \"30 Santa Barbara Rd, Berkeley, CA 94707\",\n",
    "    \"41 Somerset Pl, Berkeley, CA 94707\"\n",
    "]"
   ]
  },
  {
   "cell_type": "code",
   "execution_count": 9,
   "metadata": {},
   "outputs": [],
   "source": [
    "locations = [gmclient.geocode(adr) for adr in addresses]"
   ]
  },
  {
   "cell_type": "code",
   "execution_count": 52,
   "metadata": {},
   "outputs": [
    {
     "data": {
      "text/plain": [
       "[{'lat': 37.89470439999999, 'lng': -122.2584098},\n",
       " {'lat': 37.8936229, 'lng': -122.2454012},\n",
       " {'lat': 37.8787842, 'lng': -122.2649013},\n",
       " {'lat': 37.89214279999999, 'lng': -122.2729682},\n",
       " {'lat': 37.8902953, 'lng': -122.2558843},\n",
       " {'lat': 37.8883437, 'lng': -122.2616888},\n",
       " {'lat': 37.8793781, 'lng': -122.2467773},\n",
       " {'lat': 37.9074111, 'lng': -122.2874857},\n",
       " {'lat': 37.8960052, 'lng': -122.2707927},\n",
       " {'lat': 37.8947778, 'lng': -122.2740412}]"
      ]
     },
     "execution_count": 52,
     "metadata": {},
     "output_type": "execute_result"
    }
   ],
   "source": [
    "[loc[0]['geometry']['location'] for loc in locations]"
   ]
  },
  {
   "cell_type": "code",
   "execution_count": 4,
   "metadata": {},
   "outputs": [],
   "source": [
    "df = pd.DataFrame([{'lat': 37.89470439999999, 'lng': -122.2584098},\n",
    " {'lat': 37.8936229, 'lng': -122.2454012},\n",
    " {'lat': 37.8787842, 'lng': -122.2649013},\n",
    " {'lat': 37.89214279999999, 'lng': -122.2729682},\n",
    " {'lat': 37.8902953, 'lng': -122.2558843},\n",
    " {'lat': 37.8883437, 'lng': -122.2616888},\n",
    " {'lat': 37.8793781, 'lng': -122.2467773},\n",
    " {'lat': 37.9074111, 'lng': -122.2874857},\n",
    " {'lat': 37.8960052, 'lng': -122.2707927},\n",
    " {'lat': 37.8947778, 'lng': -122.2740412}])"
   ]
  },
  {
   "cell_type": "code",
   "execution_count": 5,
   "metadata": {
    "scrolled": true
   },
   "outputs": [
    {
     "data": {
      "text/html": [
       "<div>\n",
       "<style scoped>\n",
       "    .dataframe tbody tr th:only-of-type {\n",
       "        vertical-align: middle;\n",
       "    }\n",
       "\n",
       "    .dataframe tbody tr th {\n",
       "        vertical-align: top;\n",
       "    }\n",
       "\n",
       "    .dataframe thead th {\n",
       "        text-align: right;\n",
       "    }\n",
       "</style>\n",
       "<table border=\"1\" class=\"dataframe\">\n",
       "  <thead>\n",
       "    <tr style=\"text-align: right;\">\n",
       "      <th></th>\n",
       "      <th>lat</th>\n",
       "      <th>lng</th>\n",
       "    </tr>\n",
       "  </thead>\n",
       "  <tbody>\n",
       "    <tr>\n",
       "      <th>0</th>\n",
       "      <td>37.894704</td>\n",
       "      <td>-122.258410</td>\n",
       "    </tr>\n",
       "    <tr>\n",
       "      <th>1</th>\n",
       "      <td>37.893623</td>\n",
       "      <td>-122.245401</td>\n",
       "    </tr>\n",
       "    <tr>\n",
       "      <th>2</th>\n",
       "      <td>37.878784</td>\n",
       "      <td>-122.264901</td>\n",
       "    </tr>\n",
       "    <tr>\n",
       "      <th>3</th>\n",
       "      <td>37.892143</td>\n",
       "      <td>-122.272968</td>\n",
       "    </tr>\n",
       "    <tr>\n",
       "      <th>4</th>\n",
       "      <td>37.890295</td>\n",
       "      <td>-122.255884</td>\n",
       "    </tr>\n",
       "    <tr>\n",
       "      <th>5</th>\n",
       "      <td>37.888344</td>\n",
       "      <td>-122.261689</td>\n",
       "    </tr>\n",
       "    <tr>\n",
       "      <th>6</th>\n",
       "      <td>37.879378</td>\n",
       "      <td>-122.246777</td>\n",
       "    </tr>\n",
       "    <tr>\n",
       "      <th>7</th>\n",
       "      <td>37.907411</td>\n",
       "      <td>-122.287486</td>\n",
       "    </tr>\n",
       "    <tr>\n",
       "      <th>8</th>\n",
       "      <td>37.896005</td>\n",
       "      <td>-122.270793</td>\n",
       "    </tr>\n",
       "    <tr>\n",
       "      <th>9</th>\n",
       "      <td>37.894778</td>\n",
       "      <td>-122.274041</td>\n",
       "    </tr>\n",
       "  </tbody>\n",
       "</table>\n",
       "</div>"
      ],
      "text/plain": [
       "         lat         lng\n",
       "0  37.894704 -122.258410\n",
       "1  37.893623 -122.245401\n",
       "2  37.878784 -122.264901\n",
       "3  37.892143 -122.272968\n",
       "4  37.890295 -122.255884\n",
       "5  37.888344 -122.261689\n",
       "6  37.879378 -122.246777\n",
       "7  37.907411 -122.287486\n",
       "8  37.896005 -122.270793\n",
       "9  37.894778 -122.274041"
      ]
     },
     "execution_count": 5,
     "metadata": {},
     "output_type": "execute_result"
    }
   ],
   "source": [
    "df"
   ]
  },
  {
   "cell_type": "code",
   "execution_count": 6,
   "metadata": {},
   "outputs": [
    {
     "data": {
      "application/vnd.jupyter.widget-view+json": {
       "model_id": "01fcde4cb53a4ec788cd2d2c59fe943d",
       "version_major": 2,
       "version_minor": 0
      },
      "text/plain": [
       "Figure(layout=FigureLayout(height='420px'))"
      ]
     },
     "metadata": {},
     "output_type": "display_data"
    }
   ],
   "source": [
    "# load a Numpy array of (latitude, longitude) pairs\n",
    "fig = gmaps.figure()\n",
    "\n",
    "fig.add_layer(gmaps.symbol_layer(df, fill_color=\"red\", stroke_color=\"red\", scale=4))\n",
    "fig"
   ]
  },
  {
   "cell_type": "code",
   "execution_count": 7,
   "metadata": {},
   "outputs": [],
   "source": [
    "def get_duration(start, end):\n",
    "    now = dt.now()\n",
    "    res = gmclient.directions(start,\n",
    "                             end,\n",
    "                             mode=\"driving\",\n",
    "                             departure_time=now)\n",
    "    if len(res) != 1:\n",
    "        raise Exception(\"directions result has size {}\".format(len(directions_result)))\n",
    "        \n",
    "    if len(res[0]['legs']) != 1:\n",
    "        raise Exception(\"expected one leg, not {}\".format(len(directions_result)))\n",
    "    \n",
    "    return res[0]['legs'][0]['duration']['value']"
   ]
  },
  {
   "cell_type": "code",
   "execution_count": 10,
   "metadata": {},
   "outputs": [],
   "source": [
    "def travelling_salesman_NN(start_location, destinations):\n",
    "    return find_NN_route(start_location, destinations, [], 0)"
   ]
  },
  {
   "cell_type": "code",
   "execution_count": 11,
   "metadata": {},
   "outputs": [],
   "source": [
    "def find_NN_route(start_location, destinations, route, total_time):\n",
    "    if len(destinations) == 0:\n",
    "        return route, total_time\n",
    "    min_dist = np.inf\n",
    "    closest = None\n",
    "    for p in destinations:\n",
    "        dist = get_duration(start_location, p)\n",
    "        if dist < min_dist:\n",
    "            min_dist = dist\n",
    "            closest = p\n",
    "    print(\"Found new point in route\")\n",
    "    route.append(closest)\n",
    "    total_time += min_dist\n",
    "    return find_NN_route(closest, [p for p in destinations if p != closest], route, total_time)"
   ]
  },
  {
   "cell_type": "code",
   "execution_count": 12,
   "metadata": {
    "scrolled": true
   },
   "outputs": [
    {
     "name": "stdout",
     "output_type": "stream",
     "text": [
      "Found new point in route\n",
      "Found new point in route\n",
      "Found new point in route\n",
      "Found new point in route\n",
      "Found new point in route\n",
      "Found new point in route\n",
      "Found new point in route\n",
      "Found new point in route\n",
      "Found new point in route\n",
      "Route found: 42.55 min\n"
     ]
    }
   ],
   "source": [
    "start = df.loc[0].to_list()\n",
    "destinations = df.iloc[1:].values.tolist()\n",
    "route, time = travelling_salesman_NN(start, destinations)\n",
    "print(\"Route found: {} min\".format(time/60))"
   ]
  },
  {
   "cell_type": "code",
   "execution_count": 13,
   "metadata": {},
   "outputs": [
    {
     "data": {
      "application/vnd.jupyter.widget-view+json": {
       "model_id": "1a4ae0e74fe4480dbd6d84c13d4c4cf4",
       "version_major": 2,
       "version_minor": 0
      },
      "text/plain": [
       "Figure(layout=FigureLayout(height='420px'))"
      ]
     },
     "metadata": {},
     "output_type": "display_data"
    }
   ],
   "source": [
    "fig = gmaps.figure()\n",
    "route_map = gmaps.Polygon(\n",
    "    [start] + route,\n",
    "    stroke_color='blue',\n",
    "    fill_color='blue'\n",
    ")\n",
    "drawing = gmaps.drawing_layer(\n",
    "    features=[route_map]\n",
    ")\n",
    "fig.add_layer(drawing)\n",
    "colors = [\"yellow\"] + [\"red\"]*len(route)\n",
    "fig.add_layer(gmaps.symbol_layer(df, fill_color=colors, stroke_color=colors, scale=4))\n",
    "fig"
   ]
  },
  {
   "cell_type": "code",
   "execution_count": null,
   "metadata": {},
   "outputs": [],
   "source": []
  }
 ],
 "metadata": {
  "kernelspec": {
   "display_name": "Python 3",
   "language": "python",
   "name": "python3"
  },
  "language_info": {
   "codemirror_mode": {
    "name": "ipython",
    "version": 3
   },
   "file_extension": ".py",
   "mimetype": "text/x-python",
   "name": "python",
   "nbconvert_exporter": "python",
   "pygments_lexer": "ipython3",
   "version": "3.7.4"
  }
 },
 "nbformat": 4,
 "nbformat_minor": 2
}
