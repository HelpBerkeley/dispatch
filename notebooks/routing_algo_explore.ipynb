{
 "cells": [
  {
   "cell_type": "markdown",
   "metadata": {},
   "source": [
    "### Before you start\n",
    "\n",
    "You need a gmaps API key to run this notebook. I didn't want to put it here in plain, so ask me directly."
   ]
  },
  {
   "cell_type": "code",
   "execution_count": 1,
   "metadata": {},
   "outputs": [],
   "source": [
    "API_KEY = \"<fill in>\""
   ]
  },
  {
   "cell_type": "code",
   "execution_count": 2,
   "metadata": {},
   "outputs": [
    {
     "name": "stdout",
     "output_type": "stream",
     "text": [
      "Populating the interactive namespace from numpy and matplotlib\n"
     ]
    }
   ],
   "source": [
    "import dispatcher\n",
    "\n",
    "import pandas as pd\n",
    "import numpy as np\n",
    "\n",
    "from datetime import datetime as dt\n",
    "import matplotlib.pyplot as plt\n",
    "\n",
    "# maps viz\n",
    "import gmaps\n",
    "import gmaps.datasets\n",
    "\n",
    "%pylab inline\n",
    "\n",
    "dispatcher.configure(API_KEY) # Your Google API key"
   ]
  },
  {
   "cell_type": "markdown",
   "metadata": {},
   "source": [
    "#### The dispatcher package contains some useful functions that use the google maps API:"
   ]
  },
  {
   "cell_type": "code",
   "execution_count": 3,
   "metadata": {},
   "outputs": [
    {
     "name": "stdout",
     "output_type": "stream",
     "text": [
      "{'lat': 37.8883437, 'lng': -122.2616888}\n",
      "{'lat': 37.8902953, 'lng': -122.2558843}\n",
      "7.3 minutes\n"
     ]
    }
   ],
   "source": [
    "# convert and address to latitude and longitude\n",
    "loc1 = dispatcher.address_to_latlon(\"1132 Euclid Ave, Berkeley, CA 94708\")\n",
    "print(loc1)\n",
    "loc2 = dispatcher.address_to_latlon(\"50 Whitaker Ave, Berkeley, CA 94708\")\n",
    "print(loc2)\n",
    "\n",
    "# get the time (in sec) to drive from one location to another\n",
    "t = dispatcher.get_duration(loc1, loc2)\n",
    "print(\"{:.2} minutes\".format(t/60.))"
   ]
  },
  {
   "cell_type": "code",
   "execution_count": 4,
   "metadata": {},
   "outputs": [],
   "source": [
    "# test addresses\n",
    "addresses = [\n",
    "    \"1030 creston road, Berkeley, CA\",\n",
    "    \"Tilden Regional Park Shasta Road at, Wildcat Canyon Rd, Berkeley, CA 94708\",\n",
    "    \"2286 Cedar St, Berkeley, CA 94709\",\n",
    "    \"950 Indian Rock Ave, Berkeley, CA 94707\",\n",
    "    \"50 Whitaker Ave, Berkeley, CA 94708\",\n",
    "    \"1132 Euclid Ave, Berkeley, CA 94708\",\n",
    "    \"1 Centennial Dr, Berkeley, CA 94720\",\n",
    "    \"101 Colusa Ave, El Cerrito, CA 94530\",\n",
    "    \"30 Santa Barbara Rd, Berkeley, CA 94707\",\n",
    "    \"41 Somerset Pl, Berkeley, CA 94707\"\n",
    "]"
   ]
  },
  {
   "cell_type": "code",
   "execution_count": 5,
   "metadata": {},
   "outputs": [],
   "source": [
    "locations = [dispatcher.address_to_latlon(adr) for adr in addresses]"
   ]
  },
  {
   "cell_type": "code",
   "execution_count": 6,
   "metadata": {},
   "outputs": [
    {
     "data": {
      "text/plain": [
       "[{'lat': 37.89470439999999, 'lng': -122.2584098},\n",
       " {'lat': 37.8936229, 'lng': -122.2454012},\n",
       " {'lat': 37.8787842, 'lng': -122.2649013},\n",
       " {'lat': 37.89214279999999, 'lng': -122.2729682},\n",
       " {'lat': 37.8902953, 'lng': -122.2558843},\n",
       " {'lat': 37.8883437, 'lng': -122.2616888},\n",
       " {'lat': 37.8793781, 'lng': -122.2467773},\n",
       " {'lat': 37.9074111, 'lng': -122.2874857},\n",
       " {'lat': 37.8960052, 'lng': -122.2707927},\n",
       " {'lat': 37.8947778, 'lng': -122.2740412}]"
      ]
     },
     "execution_count": 6,
     "metadata": {},
     "output_type": "execute_result"
    }
   ],
   "source": [
    "locations"
   ]
  },
  {
   "cell_type": "code",
   "execution_count": 7,
   "metadata": {},
   "outputs": [],
   "source": [
    "df = pd.DataFrame([{'lat': 37.89470439999999, 'lng': -122.2584098},\n",
    " {'lat': 37.8936229, 'lng': -122.2454012},\n",
    " {'lat': 37.8787842, 'lng': -122.2649013},\n",
    " {'lat': 37.89214279999999, 'lng': -122.2729682},\n",
    " {'lat': 37.8902953, 'lng': -122.2558843},\n",
    " {'lat': 37.8883437, 'lng': -122.2616888},\n",
    " {'lat': 37.8793781, 'lng': -122.2467773},\n",
    " {'lat': 37.9074111, 'lng': -122.2874857},\n",
    " {'lat': 37.8960052, 'lng': -122.2707927},\n",
    " {'lat': 37.8947778, 'lng': -122.2740412}])"
   ]
  },
  {
   "cell_type": "code",
   "execution_count": 8,
   "metadata": {
    "scrolled": false
   },
   "outputs": [
    {
     "data": {
      "text/html": [
       "<div>\n",
       "<style scoped>\n",
       "    .dataframe tbody tr th:only-of-type {\n",
       "        vertical-align: middle;\n",
       "    }\n",
       "\n",
       "    .dataframe tbody tr th {\n",
       "        vertical-align: top;\n",
       "    }\n",
       "\n",
       "    .dataframe thead th {\n",
       "        text-align: right;\n",
       "    }\n",
       "</style>\n",
       "<table border=\"1\" class=\"dataframe\">\n",
       "  <thead>\n",
       "    <tr style=\"text-align: right;\">\n",
       "      <th></th>\n",
       "      <th>lat</th>\n",
       "      <th>lng</th>\n",
       "    </tr>\n",
       "  </thead>\n",
       "  <tbody>\n",
       "    <tr>\n",
       "      <th>0</th>\n",
       "      <td>37.894704</td>\n",
       "      <td>-122.258410</td>\n",
       "    </tr>\n",
       "    <tr>\n",
       "      <th>1</th>\n",
       "      <td>37.893623</td>\n",
       "      <td>-122.245401</td>\n",
       "    </tr>\n",
       "    <tr>\n",
       "      <th>2</th>\n",
       "      <td>37.878784</td>\n",
       "      <td>-122.264901</td>\n",
       "    </tr>\n",
       "    <tr>\n",
       "      <th>3</th>\n",
       "      <td>37.892143</td>\n",
       "      <td>-122.272968</td>\n",
       "    </tr>\n",
       "    <tr>\n",
       "      <th>4</th>\n",
       "      <td>37.890295</td>\n",
       "      <td>-122.255884</td>\n",
       "    </tr>\n",
       "    <tr>\n",
       "      <th>5</th>\n",
       "      <td>37.888344</td>\n",
       "      <td>-122.261689</td>\n",
       "    </tr>\n",
       "    <tr>\n",
       "      <th>6</th>\n",
       "      <td>37.879378</td>\n",
       "      <td>-122.246777</td>\n",
       "    </tr>\n",
       "    <tr>\n",
       "      <th>7</th>\n",
       "      <td>37.907411</td>\n",
       "      <td>-122.287486</td>\n",
       "    </tr>\n",
       "    <tr>\n",
       "      <th>8</th>\n",
       "      <td>37.896005</td>\n",
       "      <td>-122.270793</td>\n",
       "    </tr>\n",
       "    <tr>\n",
       "      <th>9</th>\n",
       "      <td>37.894778</td>\n",
       "      <td>-122.274041</td>\n",
       "    </tr>\n",
       "  </tbody>\n",
       "</table>\n",
       "</div>"
      ],
      "text/plain": [
       "         lat         lng\n",
       "0  37.894704 -122.258410\n",
       "1  37.893623 -122.245401\n",
       "2  37.878784 -122.264901\n",
       "3  37.892143 -122.272968\n",
       "4  37.890295 -122.255884\n",
       "5  37.888344 -122.261689\n",
       "6  37.879378 -122.246777\n",
       "7  37.907411 -122.287486\n",
       "8  37.896005 -122.270793\n",
       "9  37.894778 -122.274041"
      ]
     },
     "execution_count": 8,
     "metadata": {},
     "output_type": "execute_result"
    }
   ],
   "source": [
    "df"
   ]
  },
  {
   "cell_type": "code",
   "execution_count": 9,
   "metadata": {},
   "outputs": [
    {
     "data": {
      "application/vnd.jupyter.widget-view+json": {
       "model_id": "e0a97682f6ce48de8e482eb06115f4e2",
       "version_major": 2,
       "version_minor": 0
      },
      "text/plain": [
       "Figure(layout=FigureLayout(height='420px'))"
      ]
     },
     "metadata": {},
     "output_type": "display_data"
    }
   ],
   "source": [
    "fig = gmaps.figure()\n",
    "\n",
    "fig.add_layer(gmaps.symbol_layer(df, fill_color=\"red\", stroke_color=\"red\", scale=4))\n",
    "fig"
   ]
  },
  {
   "cell_type": "markdown",
   "metadata": {},
   "source": [
    "### routing optimization experiments\n",
    "\n",
    "This is a very simple solution for the travelling salesman problem with fixed starting point:\n",
    "we pick for the next destination whichever point is the closest.\n",
    "With N destination points, this algorithm makes N + N-1 + N-2 ... = N(N-1)/2 calls to the google maps directions API."
   ]
  },
  {
   "cell_type": "code",
   "execution_count": 10,
   "metadata": {},
   "outputs": [],
   "source": [
    "def travelling_salesman_NN(start_location, destinations):\n",
    "    return find_NN_route(start_location, destinations, [], 0)"
   ]
  },
  {
   "cell_type": "code",
   "execution_count": 11,
   "metadata": {},
   "outputs": [],
   "source": [
    "def find_NN_route(start_location, destinations, route, total_time):\n",
    "    \"\"\"tail-recursive function\"\"\"\n",
    "    if len(destinations) == 0:\n",
    "        return route, total_time\n",
    "    min_dist = np.inf\n",
    "    closest = None\n",
    "    for p in destinations:\n",
    "        dist = dispatcher.get_duration(start_location, p)\n",
    "        if dist < min_dist:\n",
    "            min_dist = dist\n",
    "            closest = p\n",
    "    print(\"Found new point in route\")\n",
    "    route.append(closest)\n",
    "    total_time += min_dist\n",
    "    return find_NN_route(closest, [p for p in destinations if p != closest], route, total_time)"
   ]
  },
  {
   "cell_type": "code",
   "execution_count": 12,
   "metadata": {
    "scrolled": true
   },
   "outputs": [
    {
     "name": "stdout",
     "output_type": "stream",
     "text": [
      "Found new point in route\n",
      "Found new point in route\n",
      "Found new point in route\n",
      "Found new point in route\n",
      "Found new point in route\n",
      "Found new point in route\n",
      "Found new point in route\n",
      "Found new point in route\n",
      "Found new point in route\n",
      "Route found: 42.8 min\n"
     ]
    }
   ],
   "source": [
    "start = df.loc[0].to_list()\n",
    "destinations = df.iloc[1:].values.tolist()\n",
    "route, time = travelling_salesman_NN(start, destinations)\n",
    "print(\"Route found: {} min\".format(time/60))"
   ]
  },
  {
   "cell_type": "code",
   "execution_count": 13,
   "metadata": {},
   "outputs": [
    {
     "data": {
      "text/plain": [
       "[[37.8902953, -122.2558843],\n",
       " [37.8936229, -122.2454012],\n",
       " [37.8793781, -122.2467773],\n",
       " [37.8787842, -122.2649013],\n",
       " [37.89214279999999, -122.2729682],\n",
       " [37.8947778, -122.2740412],\n",
       " [37.8960052, -122.2707927],\n",
       " [37.8883437, -122.2616888],\n",
       " [37.9074111, -122.2874857]]"
      ]
     },
     "execution_count": 13,
     "metadata": {},
     "output_type": "execute_result"
    }
   ],
   "source": [
    "route"
   ]
  },
  {
   "cell_type": "code",
   "execution_count": 14,
   "metadata": {},
   "outputs": [
    {
     "data": {
      "application/vnd.jupyter.widget-view+json": {
       "model_id": "723439c1bc32492b8101b195882eb617",
       "version_major": 2,
       "version_minor": 0
      },
      "text/plain": [
       "Figure(layout=FigureLayout(height='420px'))"
      ]
     },
     "metadata": {},
     "output_type": "display_data"
    }
   ],
   "source": [
    "# careful: this makes N-1 calls to the google maps directions API\n",
    "fig = gmaps.figure()\n",
    "route_fig = gmaps.directions_layer(\n",
    "        route[0], route[-1], waypoints=route[1:-1],\n",
    "        travel_mode='DRIVING')\n",
    "fig.add_layer(route_fig)\n",
    "fig"
   ]
  },
  {
   "cell_type": "markdown",
   "metadata": {},
   "source": [
    "However, we usually need 2 constraints: on the start point and end point.\n",
    "\n",
    "The following is a slightly modifed version of the previous algorithm where we bounce from start to end recursively."
   ]
  },
  {
   "cell_type": "code",
   "execution_count": 15,
   "metadata": {},
   "outputs": [],
   "source": [
    "def travelling_salesman_NN(start_location, end_location, destinations):\n",
    "    route = [start_location] + [None]*len(destinations) + [end_location]\n",
    "    route, time = _find_NN_route(destinations, route, 0)\n",
    "    # reverse if need be\n",
    "    if route[0] != start_location:\n",
    "        route.reverse()\n",
    "    return route, time\n",
    "\n",
    "\n",
    "def _find_NN_route(destinations, route, total_time):\n",
    "    \"\"\"Recursively builds the route between the start point and end point\"\"\"\n",
    "    if len(destinations) == 0:\n",
    "        return route, total_time\n",
    "    # find previous point and index of point to add\n",
    "    start = None\n",
    "    for i, p in enumerate(route):\n",
    "        if p is None:\n",
    "            start = route[i-1]\n",
    "            break\n",
    "    closest, min_dist = find_closest(start, destinations)\n",
    "    print(\"Found new point in route\")\n",
    "    route[i] = destinations[closest]\n",
    "    total_time += min_dist\n",
    "    # we start from other side of the path next iteration\n",
    "    route.reverse()\n",
    "    return _find_NN_route([p for (i, p) in enumerate(destinations) if i != closest], route, total_time)\n",
    "\n",
    "# helper function\n",
    "def find_closest(start, destinations):\n",
    "    min_dist = np.inf\n",
    "    closest = None\n",
    "    for i, p in enumerate(destinations):\n",
    "        dist = dispatcher.get_duration(start, p)\n",
    "        if dist < min_dist:\n",
    "            min_dist = dist\n",
    "            closest = i\n",
    "    return closest, min_dist"
   ]
  },
  {
   "cell_type": "code",
   "execution_count": 16,
   "metadata": {},
   "outputs": [
    {
     "name": "stdout",
     "output_type": "stream",
     "text": [
      "Found new point in route\n",
      "Found new point in route\n",
      "Found new point in route\n",
      "Found new point in route\n",
      "Found new point in route\n",
      "Found new point in route\n",
      "Found new point in route\n",
      "Found new point in route\n",
      "Route found: 39.18333333333333 min\n"
     ]
    }
   ],
   "source": [
    "start = df.iloc[0].to_list()\n",
    "end = df.iloc[-1].to_list()\n",
    "destinations = df.iloc[1:-1].values.tolist()\n",
    "route, time = travelling_salesman_NN(start, end, destinations)\n",
    "print(\"Route found: {} min\".format(time/60))"
   ]
  },
  {
   "cell_type": "code",
   "execution_count": 17,
   "metadata": {},
   "outputs": [
    {
     "data": {
      "application/vnd.jupyter.widget-view+json": {
       "model_id": "dbe37b72e0644b49b35cb6d057577441",
       "version_major": 2,
       "version_minor": 0
      },
      "text/plain": [
       "Figure(layout=FigureLayout(height='420px'))"
      ]
     },
     "metadata": {},
     "output_type": "display_data"
    }
   ],
   "source": [
    "fig = gmaps.figure()\n",
    "route_fig = gmaps.directions_layer(\n",
    "        route[0], route[-1], waypoints=route[1:-1],\n",
    "        travel_mode='DRIVING')\n",
    "fig.add_layer(route_fig)\n",
    "fig"
   ]
  },
  {
   "cell_type": "markdown",
   "metadata": {},
   "source": [
    "All these functions can be found in the dispatcher package."
   ]
  },
  {
   "cell_type": "code",
   "execution_count": 18,
   "metadata": {},
   "outputs": [
    {
     "data": {
      "text/plain": [
       "<function dispatcher.optimization.travelling_salesman_NN(start_location, end_location, destinations)>"
      ]
     },
     "execution_count": 18,
     "metadata": {},
     "output_type": "execute_result"
    }
   ],
   "source": [
    "dispatcher.travelling_salesman_NN"
   ]
  },
  {
   "cell_type": "code",
   "execution_count": null,
   "metadata": {},
   "outputs": [],
   "source": []
  }
 ],
 "metadata": {
  "kernelspec": {
   "display_name": "Python 3",
   "language": "python",
   "name": "python3"
  },
  "language_info": {
   "codemirror_mode": {
    "name": "ipython",
    "version": 3
   },
   "file_extension": ".py",
   "mimetype": "text/x-python",
   "name": "python",
   "nbconvert_exporter": "python",
   "pygments_lexer": "ipython3",
   "version": "3.7.6"
  }
 },
 "nbformat": 4,
 "nbformat_minor": 2
}
